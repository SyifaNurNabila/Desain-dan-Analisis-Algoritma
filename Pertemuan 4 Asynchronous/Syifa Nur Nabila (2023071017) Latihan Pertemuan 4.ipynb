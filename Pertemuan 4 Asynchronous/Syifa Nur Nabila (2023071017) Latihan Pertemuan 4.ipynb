{
  "nbformat": 4,
  "nbformat_minor": 0,
  "metadata": {
    "colab": {
      "provenance": []
    },
    "kernelspec": {
      "name": "python3",
      "display_name": "Python 3"
    },
    "language_info": {
      "name": "python"
    }
  },
  "cells": [
    {
      "cell_type": "markdown",
      "source": [
        "# **Latihan Tugas Pertemuan 4**\n",
        "\n",
        "**Nama : Syifa Nur Nabila**\n",
        "\n",
        "\n",
        "**NIM  : 203071017**\n",
        "\n",
        "**Mata Kuliah : Desain dan Analisis Algoritma (INF-A)**\n"
      ],
      "metadata": {
        "id": "1m2ZvnM5TzUi"
      }
    },
    {
      "cell_type": "code",
      "source": [
        "#swap function\n",
        "var1 = 1\n",
        "var2 = 2\n",
        "var1,var2 = var2,var1"
      ],
      "metadata": {
        "id": "wuIbYmBTCW0_"
      },
      "execution_count": 1,
      "outputs": []
    },
    {
      "cell_type": "code",
      "source": [
        "print(var1,var2)"
      ],
      "metadata": {
        "id": "3cxoDOycDkAQ",
        "colab": {
          "base_uri": "https://localhost:8080/"
        },
        "outputId": "1fa01c28-bf74-4c5a-b854-5ce4780f5981"
      },
      "execution_count": 2,
      "outputs": [
        {
          "output_type": "stream",
          "name": "stdout",
          "text": [
            "2 1\n"
          ]
        }
      ]
    },
    {
      "cell_type": "code",
      "source": [
        "#Latihan membuat var 3 di swap function\n",
        "var1 = 1\n",
        "var2 = 2\n",
        "var3 = 3\n",
        "var1,var2,var3 = var3,var2,var1"
      ],
      "metadata": {
        "id": "Gdl2P4JADtcX"
      },
      "execution_count": 4,
      "outputs": []
    },
    {
      "cell_type": "code",
      "source": [
        "print(var1,var2,var3)"
      ],
      "metadata": {
        "colab": {
          "base_uri": "https://localhost:8080/"
        },
        "id": "rZLqf6PK0Rs6",
        "outputId": "2c0995ac-8fed-4fe0-fc55-deaa74fea4b9"
      },
      "execution_count": 5,
      "outputs": [
        {
          "output_type": "stream",
          "name": "stdout",
          "text": [
            "3 2 1\n"
          ]
        }
      ]
    },
    {
      "cell_type": "code",
      "source": [
        "# 1 Bubble Sort\n",
        "list = [25, 21, 22, 24, 23, 27, 26]\n",
        "# Modifikasi dengan angka favorit Anda\n",
        "\n",
        "# Proses penukaran Bubble Sort\n",
        "lastElementIndex = len(list) - 1\n",
        "print(0, list)\n",
        "for idx in range(lastElementIndex):\n",
        "    if list[idx] > list[idx + 1]:\n",
        "        list[idx], list[idx + 1] = list[idx + 1], list[idx]\n",
        "        print(idx + 1, list)"
      ],
      "metadata": {
        "colab": {
          "base_uri": "https://localhost:8080/"
        },
        "id": "rLRpyNB4Z7dD",
        "outputId": "1c7c927e-4dee-4087-b95d-ec2b6fa17d38"
      },
      "execution_count": 2,
      "outputs": [
        {
          "output_type": "stream",
          "name": "stdout",
          "text": [
            "0 [25, 21, 22, 24, 23, 27, 26]\n",
            "1 [21, 25, 22, 24, 23, 27, 26]\n",
            "2 [21, 22, 25, 24, 23, 27, 26]\n",
            "3 [21, 22, 24, 25, 23, 27, 26]\n",
            "4 [21, 22, 24, 23, 25, 27, 26]\n",
            "6 [21, 22, 24, 23, 25, 26, 27]\n"
          ]
        }
      ]
    },
    {
      "cell_type": "code",
      "source": [
        "#Bubble Sort\n",
        "def bubble_sort(list):\n",
        "  \"\"\"Mengurutkan list menggunakan algoritma Bubble Sort\"\"\"\n",
        "\n",
        "  # Menentukan indeks elemen terakhir\n",
        "  last_element_index = len(list) - 1\n",
        "\n",
        "  # Loop luar untuk melakukan pass\n",
        "  for pass_no in range(last_element_index, 0, -1):\n",
        "    # Loop dalam untuk membandingkan dan menukar elemen\n",
        "    for idx in range(passNo):\n",
        "      # Jika elemen saat ini lebih besar dari elemen berikutnya, tukar\n",
        "      if list[idx] > list[idx + 1]:\n",
        "        list[idx], list[idx + 1] = list[idx + 1], list[idx]\n",
        "\n",
        "  return list"
      ],
      "metadata": {
        "id": "nX6mHINzbJ18"
      },
      "execution_count": 5,
      "outputs": []
    },
    {
      "cell_type": "code",
      "source": [
        "list"
      ],
      "metadata": {
        "colab": {
          "base_uri": "https://localhost:8080/"
        },
        "id": "NO6t1LJicCDq",
        "outputId": "e04a8cb1-5e90-46fb-a1a8-7309c21b9158"
      },
      "execution_count": 6,
      "outputs": [
        {
          "output_type": "execute_result",
          "data": {
            "text/plain": [
              "[21, 22, 24, 23, 25, 26, 27]"
            ]
          },
          "metadata": {},
          "execution_count": 6
        }
      ]
    },
    {
      "cell_type": "code",
      "source": [
        "#Bubble Sort\n",
        "def BubbleSort(list):\n",
        "  # Exchange the elements to arrange in order\n",
        "  lastElementIndex = len(list) - 1\n",
        "  for passNo in range(lastElementIndex, 0, -1):\n",
        "    for idx in range(passNo):\n",
        "      if list[idx] > list[idx+1]:\n",
        "        list[idx], list[idx+1] = list[idx+1], list[idx]\n",
        "  return list"
      ],
      "metadata": {
        "id": "KBNtcOs2cfiF"
      },
      "execution_count": 8,
      "outputs": []
    },
    {
      "cell_type": "code",
      "source": [
        "#Masukkan angka dengan urutan lainnya\n",
        "list = [25,21,22,24,23,27,26]"
      ],
      "metadata": {
        "id": "6HiZDEmOcgjw"
      },
      "execution_count": 11,
      "outputs": []
    },
    {
      "cell_type": "code",
      "source": [
        "BubbleSort(list)"
      ],
      "metadata": {
        "colab": {
          "base_uri": "https://localhost:8080/"
        },
        "id": "OJTW55Qqcz1u",
        "outputId": "c47f7cb4-bef3-413f-dc71-891a4a22851f"
      },
      "execution_count": 12,
      "outputs": [
        {
          "output_type": "execute_result",
          "data": {
            "text/plain": [
              "[21, 22, 23, 24, 25, 26, 27]"
            ]
          },
          "metadata": {},
          "execution_count": 12
        }
      ]
    },
    {
      "cell_type": "code",
      "source": [
        "# Latihan deret bilangan menggunakan sorting metode Bubble Sort\n",
        "def bubble_sort(list):\n",
        "  \"\"\"Mengurutkan list menggunakan algoritma Bubble Sort\"\"\"\n",
        "  n = len(list)\n",
        "  for i in range(n):\n",
        "    swapped = False\n",
        "    for j in range(0, n-i-1):\n",
        "      if list[j] > list[j+1] :\n",
        "        list[j], list[j+1] = list[j+1], list[j]\n",
        "        swapped = True\n",
        "\n",
        "    if swapped == False:\n",
        "      break\n",
        "\n",
        "  return list\n",
        "\n",
        "my_list = [100, 20, 60, 90, 40, 30, 10]\n",
        "sorted_list = bubble_sort(my_list)\n",
        "\n",
        "print(\"List yang telah terurut:\", sorted_list)"
      ],
      "metadata": {
        "colab": {
          "base_uri": "https://localhost:8080/"
        },
        "id": "9rPXP54fdP9B",
        "outputId": "34536ce0-2719-4a55-8160-9d2409ecb5f5"
      },
      "execution_count": 13,
      "outputs": [
        {
          "output_type": "stream",
          "name": "stdout",
          "text": [
            "List yang telah terurut: [10, 20, 30, 40, 60, 90, 100]\n"
          ]
        }
      ]
    },
    {
      "cell_type": "code",
      "source": [
        "# 2 Insertion Sort\n",
        "def InsertionSort(list):\n",
        "  for i in range(1, len(list)):\n",
        "    j = i-1\n",
        "    next = list[i]\n",
        "\n",
        "    # Compare the current element with next one\n",
        "    while (list[j] > next) and (j >= 0):\n",
        "      list[j+1] = list[j]\n",
        "      j -= 1\n",
        "\n",
        "    list[j+1] = next\n",
        "  return list"
      ],
      "metadata": {
        "id": "YJL1wA8YeGAf"
      },
      "execution_count": 14,
      "outputs": []
    },
    {
      "cell_type": "code",
      "source": [
        "# Masukkan angka dengan urutan lainnya\n",
        "list = [35, 31, 32, 34, 33, 37, 36]\n",
        "\n",
        "# Panggil fungsi InsertionSort\n",
        "list\n",
        "\n",
        "# Cetak hasil pengurutan\n",
        "InsertionSort(list)"
      ],
      "metadata": {
        "colab": {
          "base_uri": "https://localhost:8080/"
        },
        "id": "Hhxe2oPPdr6S",
        "outputId": "b6e9f21b-9e64-46ed-91af-d29d354fbf6e"
      },
      "execution_count": 16,
      "outputs": [
        {
          "output_type": "execute_result",
          "data": {
            "text/plain": [
              "[31, 32, 33, 34, 35, 36, 37]"
            ]
          },
          "metadata": {},
          "execution_count": 16
        }
      ]
    },
    {
      "cell_type": "code",
      "source": [
        "list = [25,26,22,24,27,23,21]"
      ],
      "metadata": {
        "id": "cW2euygWfTLp"
      },
      "execution_count": 17,
      "outputs": []
    },
    {
      "cell_type": "code",
      "source": [
        "InsertionSort(list)\n",
        "print(list)"
      ],
      "metadata": {
        "colab": {
          "base_uri": "https://localhost:8080/"
        },
        "id": "55gXLtsIfc-2",
        "outputId": "35dd4c11-5398-409f-ce7c-0825716af8dd"
      },
      "execution_count": 18,
      "outputs": [
        {
          "output_type": "stream",
          "name": "stdout",
          "text": [
            "[21, 22, 23, 24, 25, 26, 27]\n"
          ]
        }
      ]
    },
    {
      "cell_type": "code",
      "source": [
        "#Latihan urutkan deret bilangan menggunakan metode sorting Insertion Sort\n",
        "def insertion_sort(arr):\n",
        "  for i in range(1, len(arr)):\n",
        "    key = arr[i]\n",
        "    j = i-1\n",
        "    while j >=0 and key < arr[j] :\n",
        "        arr[j+1] = arr[j]\n",
        "        j -= 1\n",
        "    arr[j+1] = key\n",
        "  return arr\n",
        "\n",
        "# Deret bilangan yang akan diurutkan\n",
        "my_list = [89, 12, 57, 16, 25, 11, 75]\n",
        "\n",
        "# Panggil fungsi untuk mengurutkan list\n",
        "sorted_list = insertion_sort(my_list)\n",
        "\n",
        "# Cetak hasil pengurutan\n",
        "print(\"List yang telah terurut:\", sorted_list)"
      ],
      "metadata": {
        "colab": {
          "base_uri": "https://localhost:8080/"
        },
        "id": "T0dp4Tm3fnQ1",
        "outputId": "d570e8b5-7245-4e88-f4cc-9b014a0c8452"
      },
      "execution_count": 19,
      "outputs": [
        {
          "output_type": "stream",
          "name": "stdout",
          "text": [
            "List yang telah terurut: [11, 12, 16, 25, 57, 75, 89]\n"
          ]
        }
      ]
    },
    {
      "cell_type": "code",
      "source": [
        "# 3 Selection Sort\n",
        "def SelectionSort(list):\n",
        "  for fill_slot in range(len(list) - 1, 0, -1):\n",
        "    max_index = 0\n",
        "    for location in range(1, fill_slot + 1):\n",
        "      if list[location] > list[max_index]:\n",
        "        max_index = location\n",
        "    list[fill_slot], list[max_index] = list[max_index], list[fill_slot]\n",
        "  return list"
      ],
      "metadata": {
        "id": "nFOHYZLEgU3h"
      },
      "execution_count": 20,
      "outputs": []
    },
    {
      "cell_type": "code",
      "source": [
        "# 3 Selection Sort\n",
        "list = [78, 15, 25, 19, 34, 44]\n",
        "SelectionSort(list)\n",
        "print(list)"
      ],
      "metadata": {
        "colab": {
          "base_uri": "https://localhost:8080/"
        },
        "id": "gt3ZRtweg5vG",
        "outputId": "09370007-acc7-4b14-9a15-d6a1a9104770"
      },
      "execution_count": 21,
      "outputs": [
        {
          "output_type": "stream",
          "name": "stdout",
          "text": [
            "[15, 19, 25, 34, 44, 78]\n"
          ]
        }
      ]
    },
    {
      "cell_type": "code",
      "source": [
        "# 3 Selection Sort\n",
        "list = [70,15,25,19,34,44]\n",
        "SelectionSort(list)\n",
        "print(list)"
      ],
      "metadata": {
        "colab": {
          "base_uri": "https://localhost:8080/"
        },
        "id": "voRxYrF2hKYa",
        "outputId": "ae5c05e6-dd26-47b4-8c6c-467965e48901"
      },
      "execution_count": 23,
      "outputs": [
        {
          "output_type": "stream",
          "name": "stdout",
          "text": [
            "[15, 19, 25, 34, 44, 70]\n"
          ]
        }
      ]
    },
    {
      "cell_type": "code",
      "source": [
        "#Latihan pengurutan deret secara ascending menggunakan metode sorting Selection Sort.\n",
        "def SelectionSort(list):\n",
        "  for fill_slot in range(len(list) - 1, 0, -1):\n",
        "    max_index = 0\n",
        "    for location in range(1, fill_slot + 1):\n",
        "      if list[location] > list[max_index]:\n",
        "        max_index = location\n",
        "    list[fill_slot], list[max_index] = list[max_index], list[fill_slot]\n",
        "  return list\n",
        "\n",
        "\n",
        "list = [89, 12, 57, 16, 25]\n",
        "SelectionSort(list)\n",
        "\n",
        "print(\"List yang telah terurut:\", list)"
      ],
      "metadata": {
        "colab": {
          "base_uri": "https://localhost:8080/"
        },
        "id": "aFCc9WDWhugS",
        "outputId": "d5364399-0019-4f37-8383-f6f6ef4c039f"
      },
      "execution_count": 28,
      "outputs": [
        {
          "output_type": "stream",
          "name": "stdout",
          "text": [
            "List yang telah terurut: [12, 16, 25, 57, 89]\n"
          ]
        }
      ]
    },
    {
      "cell_type": "code",
      "source": [
        "#Linear Search\n",
        "def linear_search(list, item):\n",
        "  index = 0\n",
        "  found = False\n",
        "\n",
        "  # Match the value with each data element\n",
        "  while index < len(list) and found is False:\n",
        "    if list[index] == item:\n",
        "      found = True\n",
        "    else:\n",
        "      index = index + 1\n",
        "\n",
        "  return found\n",
        "\n",
        "# Contoh penggunaan\n",
        "list = [12, 33, 11, 99, 22, 55, 90]\n",
        "print(linear_search(list, 12))\n",
        "print(linear_search(list, 91))"
      ],
      "metadata": {
        "colab": {
          "base_uri": "https://localhost:8080/"
        },
        "id": "j8K4ImzJmsR2",
        "outputId": "a48b0ed6-bb2b-45a8-b8b7-089d7380274e"
      },
      "execution_count": 30,
      "outputs": [
        {
          "output_type": "stream",
          "name": "stdout",
          "text": [
            "True\n",
            "False\n"
          ]
        }
      ]
    },
    {
      "cell_type": "code",
      "source": [
        "#Latihan Cari “a” dari deret huruf di bawah ini menggunakan metode searching linear search\n",
        "def linear_search(list, item):\n",
        "  index = 0\n",
        "  found = False\n",
        "\n",
        "  # Match the value with each data element\n",
        "  while index < len(list) and found is False:\n",
        "    if list[index] == item:\n",
        "      found = True\n",
        "    else:\n",
        "      index = index + 1\n",
        "\n",
        "  return found\n",
        "\n",
        "\n",
        "huruf = ['y', 'u', 'i', 'w', 'o', 'a', 'q', 'u', 'i', 'p']\n",
        "cari_huruf = 'a'\n",
        "print(linear_search(huruf, cari_huruf))"
      ],
      "metadata": {
        "colab": {
          "base_uri": "https://localhost:8080/"
        },
        "id": "Ea1fVbyMpzAp",
        "outputId": "d4fa92ec-7fd0-46d0-ae24-69ba47e3f09d"
      },
      "execution_count": 32,
      "outputs": [
        {
          "output_type": "stream",
          "name": "stdout",
          "text": [
            "True\n"
          ]
        }
      ]
    },
    {
      "cell_type": "code",
      "source": [
        "#Binary Search\n",
        "def BinarySearch(list, item):\n",
        "    first = 0\n",
        "    last = len(list) - 1\n",
        "    found = False\n",
        "\n",
        "    while first <= last and not found:\n",
        "        midpoint = (first + last) // 2\n",
        "        if list[midpoint] == item:\n",
        "            found = True\n",
        "        else:\n",
        "            if item < list[midpoint]:\n",
        "                last = midpoint - 1\n",
        "            else:\n",
        "                first = midpoint + 1\n",
        "\n",
        "    return found\n",
        "\n",
        "list = [12, 33, 11, 99, 22, 55, 90]\n",
        "sorted_list = BubbleSort(list)\n",
        "print(BinarySearch(sorted_list, 12))\n",
        "print(BinarySearch(sorted_list, 91))"
      ],
      "metadata": {
        "colab": {
          "base_uri": "https://localhost:8080/"
        },
        "id": "5WvnDte9r6A8",
        "outputId": "bd63acb6-952e-4b53-9c45-59a260bf91c9"
      },
      "execution_count": 37,
      "outputs": [
        {
          "output_type": "stream",
          "name": "stdout",
          "text": [
            "True\n",
            "False\n"
          ]
        }
      ]
    },
    {
      "cell_type": "code",
      "source": [
        "#Latihan Cari “a” dari deret huruf di bawah ini menggunakan metode searching binary search\n",
        "def BinarySearch(list, item):\n",
        "    first = 0\n",
        "    last = len(list) - 1\n",
        "    found = False\n",
        "\n",
        "    while first <= last and not found:\n",
        "        midpoint = (first + last) // 2\n",
        "        if list[midpoint] == item:\n",
        "            found = True\n",
        "        else:\n",
        "            if item < list[midpoint]:\n",
        "                last = midpoint - 1\n",
        "            else:\n",
        "                first = midpoint + 1\n",
        "\n",
        "    return found\n",
        "\n",
        "list = ['y', 'u', 'i', 'w', 'o', 'a', 'q', 'u', 'i', 'p']\n",
        "sorted_list = BubbleSort(list)\n",
        "print(BinarySearch(sorted_list, 'a'))\n"
      ],
      "metadata": {
        "colab": {
          "base_uri": "https://localhost:8080/"
        },
        "id": "NODuzh3gp2l0",
        "outputId": "c97e6532-adcb-414f-89c1-3f3154911a35"
      },
      "execution_count": 41,
      "outputs": [
        {
          "output_type": "stream",
          "name": "stdout",
          "text": [
            "True\n"
          ]
        }
      ]
    },
    {
      "cell_type": "code",
      "source": [
        "#Interpolation Search\n",
        "def IntPolsearch(list, x):\n",
        "    idx0 = 0\n",
        "    idxn = (len(list)) - 1\n",
        "    found = False\n",
        "    while idx0 <= idxn and x >= list[idx0] and x <= list[idxn]:\n",
        "\n",
        "        # Find the mid point\n",
        "        mid = idx0 + int(((float(idxn - idx0) / (list[idxn] - list[idx0])) * (x - list[idx0])))\n",
        "\n",
        "        # Compare the value at mid point with search value\n",
        "        if list[mid] == x:\n",
        "            found = True\n",
        "            return found\n",
        "\n",
        "        if list[mid] < x:\n",
        "            idx0 = mid + 1\n",
        "        else:\n",
        "            idxn = mid - 1\n",
        "\n",
        "    return found\n",
        "\n",
        "# Contoh penggunaan\n",
        "list = [12, 33, 11, 99, 22, 55, 90]\n",
        "sorted_list = BubbleSort(list)\n",
        "print(IntPolsearch(list, 12))\n",
        "print(IntPolsearch(list, 91))"
      ],
      "metadata": {
        "colab": {
          "base_uri": "https://localhost:8080/"
        },
        "id": "MMJ6yPfEsnlN",
        "outputId": "90122e1a-82bb-47fb-f105-1a50c025dcdd"
      },
      "execution_count": 48,
      "outputs": [
        {
          "output_type": "stream",
          "name": "stdout",
          "text": [
            "True\n",
            "False\n"
          ]
        }
      ]
    },
    {
      "cell_type": "code",
      "source": [
        "# Latihan Cari “u” dari deret huruf di bawah ini menggunakan metode searching interpolation search\n",
        "def interpolation_search(arr, x):\n",
        "    \"\"\" Args:\n",
        "        arr: Array yang akan dicari.\n",
        "        x: Elemen yang ingin dicari. \"\"\"\n",
        "\n",
        "    low = 0  # Indeks terkecil dari subarray yang sedang dicari\n",
        "    high = len(arr) - 1  # Indeks terbesar dari subarray yang sedang dicari\n",
        "\n",
        "    while low <= high and x >= arr[low] and x <= arr[high]:\n",
        "        # Hitung indeks perkiraan posisi x\n",
        "        pos = low + int(((float(high - low) / (ord(arr[high]) - ord(arr[low]))) * (ord(x) - ord(arr[low]))))\n",
        "\n",
        "        if arr[pos] == x:\n",
        "            return True\n",
        "\n",
        "        if arr[pos] < x:\n",
        "            low = pos + 1  # Persempit pencarian ke bagian kanan\n",
        "        else:\n",
        "            high = pos - 1  # Persempit pencarian ke bagian kiri\n",
        "\n",
        "    return False\n",
        "\n",
        "huruf = ['y', 'u', 'i', 'w', 'o', 'a', 'q', 'u', 'j', 'p']\n",
        "huruf.sort()\n",
        "cari_huruf = 'u'\n",
        "found = interpolation_search(huruf, cari_huruf)\n",
        "\n",
        "if found:\n",
        "    print(\"True\")\n",
        "else:\n",
        "    print(\"False\")"
      ],
      "metadata": {
        "colab": {
          "base_uri": "https://localhost:8080/"
        },
        "id": "cwur1Tg-tmyL",
        "outputId": "2dfee6fb-2594-4fca-97aa-f37da2c94511"
      },
      "execution_count": 55,
      "outputs": [
        {
          "output_type": "stream",
          "name": "stdout",
          "text": [
            "True\n"
          ]
        }
      ]
    }
  ]
}