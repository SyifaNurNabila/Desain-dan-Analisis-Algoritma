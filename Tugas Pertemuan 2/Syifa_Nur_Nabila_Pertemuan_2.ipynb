{
  "nbformat": 4,
  "nbformat_minor": 0,
  "metadata": {
    "colab": {
      "provenance": []
    },
    "kernelspec": {
      "name": "python3",
      "display_name": "Python 3"
    },
    "language_info": {
      "name": "python"
    }
  },
  "cells": [
    {
      "cell_type": "markdown",
      "source": [
        "MK DAA Latihan Pertemuan 2\n",
        "\n",
        "Nama : Syifa Nur Nabila\n",
        "\n",
        "NIM  : 2023071017"
      ],
      "metadata": {
        "id": "6uEz39dr-1db"
      }
    },
    {
      "cell_type": "code",
      "execution_count": 14,
      "metadata": {
        "id": "VMZoTW5m8Vum"
      },
      "outputs": [],
      "source": [
        "import numpy as np\n"
      ]
    },
    {
      "cell_type": "code",
      "source": [
        "a = [1,2,3]\n",
        "b = [4,5,6]\n",
        "hasil = a + b\n"
      ],
      "metadata": {
        "id": "TnKS9cVq-UYc"
      },
      "execution_count": 93,
      "outputs": []
    },
    {
      "cell_type": "code",
      "source": [
        "print(sum(hasil))"
      ],
      "metadata": {
        "colab": {
          "base_uri": "https://localhost:8080/"
        },
        "id": "-NCYW7GvAQnh",
        "outputId": "0fe9aed9-a219-4acd-9508-602eb24ddf94"
      },
      "execution_count": 41,
      "outputs": [
        {
          "output_type": "stream",
          "name": "stdout",
          "text": [
            "21\n"
          ]
        }
      ]
    },
    {
      "cell_type": "code",
      "source": [
        "def totallist(list1,list2):\n",
        "    total = 0\n",
        "    for i in list1:\n",
        "      total += i\n",
        "    for i in list2:\n",
        "      total += i\n",
        "    return total\n",
        "\n"
      ],
      "metadata": {
        "id": "hDW6HOMh_qhT"
      },
      "execution_count": 102,
      "outputs": []
    },
    {
      "cell_type": "code",
      "source": [
        "totallist(a,b)"
      ],
      "metadata": {
        "colab": {
          "base_uri": "https://localhost:8080/"
        },
        "id": "VBG83GPwAOHI",
        "outputId": "7c921f36-4878-4a40-ccc3-c432af019983"
      },
      "execution_count": 103,
      "outputs": [
        {
          "output_type": "execute_result",
          "data": {
            "text/plain": [
              "21"
            ]
          },
          "metadata": {},
          "execution_count": 103
        }
      ]
    },
    {
      "cell_type": "code",
      "source": [
        "def totallist(mylist):\n",
        "  total = 0\n",
        "  for i in mylist:\n",
        "    total += i\n",
        "  return total"
      ],
      "metadata": {
        "id": "KwXBbVvICTMw"
      },
      "execution_count": 104,
      "outputs": []
    },
    {
      "cell_type": "code",
      "source": [
        "add_a_b = np.add(a, b)\n",
        "totallist(add_a_b)"
      ],
      "metadata": {
        "colab": {
          "base_uri": "https://localhost:8080/"
        },
        "id": "_N2aS5-ECjuN",
        "outputId": "ef1b9a36-701b-4189-a807-d013a5e3e89c"
      },
      "execution_count": 105,
      "outputs": [
        {
          "output_type": "execute_result",
          "data": {
            "text/plain": [
              "21"
            ]
          },
          "metadata": {},
          "execution_count": 105
        }
      ]
    },
    {
      "cell_type": "code",
      "source": [
        "# menampilkan nilai array\n",
        "nilai_siswa = np.array([85,55,40,90])\n",
        "print(nilai_siswa[3])"
      ],
      "metadata": {
        "colab": {
          "base_uri": "https://localhost:8080/"
        },
        "id": "tbHIIhR-EJ8j",
        "outputId": "b10f0961-49a5-4dab-8dfa-0d5f21faafaf"
      },
      "execution_count": 51,
      "outputs": [
        {
          "output_type": "stream",
          "name": "stdout",
          "text": [
            "90\n"
          ]
        }
      ]
    },
    {
      "cell_type": "code",
      "source": [
        "print(\"Hallo, World!\")\n",
        "print(\"Nama saya (Syifa Nur Nabila)\")\n",
        "print(\"NIM (2023071017)\")"
      ],
      "metadata": {
        "colab": {
          "base_uri": "https://localhost:8080/"
        },
        "id": "v4-iQ0pyFyLo",
        "outputId": "fdb745af-840f-4080-baab-ba3ef2e1d508"
      },
      "execution_count": 54,
      "outputs": [
        {
          "output_type": "stream",
          "name": "stdout",
          "text": [
            "Hallo, World!\n",
            "Nama saya (Syifa Nur Nabila)\n",
            "NIM (2023071017)\n"
          ]
        }
      ]
    },
    {
      "cell_type": "code",
      "source": [
        "Nama = input(\"Masukkan nama anda: \")\n",
        "NIM = int(input(\"Masukkan NIM anda: \"))\n",
        "\n",
        "print(f\"Nama saya {Nama}\")\n",
        "print(f\"NIM saya {NIM}\")"
      ],
      "metadata": {
        "colab": {
          "base_uri": "https://localhost:8080/"
        },
        "id": "oL2iPQc1HBUJ",
        "outputId": "5a611ee2-71bd-4217-b4e5-0bd21d790e39"
      },
      "execution_count": 88,
      "outputs": [
        {
          "output_type": "stream",
          "name": "stdout",
          "text": [
            "Masukkan nama anda: Syifa Nur Nabila\n",
            "Masukkan NIM anda: 2023071017\n",
            "Nama saya Syifa Nur Nabila\n",
            "NIM saya 2023071017\n"
          ]
        }
      ]
    },
    {
      "cell_type": "code",
      "source": [
        "if 5>2:\n",
        "  print(\"Five is geater in two\")"
      ],
      "metadata": {
        "colab": {
          "base_uri": "https://localhost:8080/"
        },
        "id": "ifCSx3lYIAH0",
        "outputId": "592160e7-3efa-4793-d219-9cfa76d70ff9"
      },
      "execution_count": 65,
      "outputs": [
        {
          "output_type": "stream",
          "name": "stdout",
          "text": [
            "Five is geater in two\n"
          ]
        }
      ]
    },
    {
      "cell_type": "code",
      "source": [
        "x = 5\n",
        "y = \"John\"\n",
        "print(x)\n",
        "print(y)"
      ],
      "metadata": {
        "colab": {
          "base_uri": "https://localhost:8080/"
        },
        "id": "6ypQgxA-IQgW",
        "outputId": "1bcf6008-f6d8-48c8-984d-2c12d2b3284d"
      },
      "execution_count": 62,
      "outputs": [
        {
          "output_type": "stream",
          "name": "stdout",
          "text": [
            "5\n",
            "John\n"
          ]
        }
      ]
    },
    {
      "cell_type": "code",
      "source": [
        "x = 5\n",
        "x = \"Sally\"\n",
        "print(x)"
      ],
      "metadata": {
        "colab": {
          "base_uri": "https://localhost:8080/"
        },
        "id": "nRb-uFaVIhPO",
        "outputId": "8cea68b3-9e9b-4e7c-8214-b1a965e6bcaf"
      },
      "execution_count": 64,
      "outputs": [
        {
          "output_type": "stream",
          "name": "stdout",
          "text": [
            "Sally\n"
          ]
        }
      ]
    },
    {
      "cell_type": "code",
      "source": [
        "def getFirst(myList):\n",
        "  return (myList[0])\n",
        "getFirst([1,2,3])"
      ],
      "metadata": {
        "colab": {
          "base_uri": "https://localhost:8080/"
        },
        "id": "KF2sTpM7IxAC",
        "outputId": "bb7cc7f1-a5a7-4d63-c872-13628d3c3907"
      },
      "execution_count": 70,
      "outputs": [
        {
          "output_type": "execute_result",
          "data": {
            "text/plain": [
              "1"
            ]
          },
          "metadata": {},
          "execution_count": 70
        }
      ]
    },
    {
      "cell_type": "code",
      "source": [
        "def getSecond(myList):\n",
        "  return (myList[1])\n",
        "getSecond([1,2,3])"
      ],
      "metadata": {
        "colab": {
          "base_uri": "https://localhost:8080/"
        },
        "id": "9QswmJ7vKAze",
        "outputId": "91103d0a-c48c-48cd-8663-0fd330bee764"
      },
      "execution_count": 71,
      "outputs": [
        {
          "output_type": "execute_result",
          "data": {
            "text/plain": [
              "2"
            ]
          },
          "metadata": {},
          "execution_count": 71
        }
      ]
    },
    {
      "cell_type": "code",
      "source": [
        "def getLast(myList):\n",
        "  return (myList[2])\n",
        "getLast([1,2,3])"
      ],
      "metadata": {
        "colab": {
          "base_uri": "https://localhost:8080/"
        },
        "id": "l1KEnI5uKIxv",
        "outputId": "ebb8fc24-7763-42fe-c476-1146541f6521"
      },
      "execution_count": 73,
      "outputs": [
        {
          "output_type": "execute_result",
          "data": {
            "text/plain": [
              "3"
            ]
          },
          "metadata": {},
          "execution_count": 73
        }
      ]
    },
    {
      "cell_type": "code",
      "source": [
        "def getlast(list):\n",
        "  return list[-1]\n",
        "getlast([1,2,3,4,5,6,7,8,9])"
      ],
      "metadata": {
        "colab": {
          "base_uri": "https://localhost:8080/"
        },
        "id": "VhfNXv3jK-iw",
        "outputId": "dab54213-25a4-4178-a864-f3d910c40f6b"
      },
      "execution_count": 74,
      "outputs": [
        {
          "output_type": "execute_result",
          "data": {
            "text/plain": [
              "9"
            ]
          },
          "metadata": {},
          "execution_count": 74
        }
      ]
    },
    {
      "cell_type": "code",
      "source": [
        "def getlast2(list):\n",
        "  size = len(list)\n",
        "  print(f\"size {size}\")\n",
        "  return list[size-1]\n",
        "getlast2([1,2,3,4,5])"
      ],
      "metadata": {
        "colab": {
          "base_uri": "https://localhost:8080/"
        },
        "id": "P4fK0btdLfLi",
        "outputId": "b8a84de7-e726-40d8-e9a6-5e8f68fc4546"
      },
      "execution_count": 86,
      "outputs": [
        {
          "output_type": "stream",
          "name": "stdout",
          "text": [
            "size 5\n"
          ]
        },
        {
          "output_type": "execute_result",
          "data": {
            "text/plain": [
              "5"
            ]
          },
          "metadata": {},
          "execution_count": 86
        }
      ]
    }
  ]
}