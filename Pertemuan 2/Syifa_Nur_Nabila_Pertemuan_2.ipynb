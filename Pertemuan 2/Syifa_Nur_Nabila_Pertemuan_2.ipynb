{
  "nbformat": 4,
  "nbformat_minor": 0,
  "metadata": {
    "colab": {
      "provenance": []
    },
    "kernelspec": {
      "name": "python3",
      "display_name": "Python 3"
    },
    "language_info": {
      "name": "python"
    }
  },
  "cells": [
    {
      "cell_type": "markdown",
      "source": [
        "**MK** **DAA** **Tugas** **Latihan** **Pertemuan** **2**\n",
        "\n",
        "**Nama** **:** **Syifa** **Nur** **Nabila**\n",
        "\n",
        "**NIM**  **:** **2023071017**"
      ],
      "metadata": {
        "id": "6uEz39dr-1db"
      }
    },
    {
      "cell_type": "code",
      "execution_count": 14,
      "metadata": {
        "id": "VMZoTW5m8Vum"
      },
      "outputs": [],
      "source": [
        "import numpy as np\n"
      ]
    },
    {
      "cell_type": "code",
      "source": [
        "#Fungsi untuk menjumlahkan 2 arrray\n",
        "a = [1,2,3]\n",
        "b = [4,5,6]\n",
        "hasil = a + b\n"
      ],
      "metadata": {
        "id": "TnKS9cVq-UYc"
      },
      "execution_count": 93,
      "outputs": []
    },
    {
      "cell_type": "code",
      "source": [
        "print(sum(hasil))"
      ],
      "metadata": {
        "colab": {
          "base_uri": "https://localhost:8080/"
        },
        "id": "-NCYW7GvAQnh",
        "outputId": "0fe9aed9-a219-4acd-9508-602eb24ddf94"
      },
      "execution_count": 41,
      "outputs": [
        {
          "output_type": "stream",
          "name": "stdout",
          "text": [
            "21\n"
          ]
        }
      ]
    },
    {
      "cell_type": "code",
      "source": [
        "#Fungsi untuk menjumlahkan 2 arrray\n",
        "def totallist(list1,list2):\n",
        "    total = 0\n",
        "    for i in list1:\n",
        "      total += i\n",
        "    for i in list2:\n",
        "      total += i\n",
        "    return total\n",
        "\n",
        "\n"
      ],
      "metadata": {
        "id": "hDW6HOMh_qhT"
      },
      "execution_count": 125,
      "outputs": []
    },
    {
      "cell_type": "code",
      "source": [
        "totallist(a,b)"
      ],
      "metadata": {
        "colab": {
          "base_uri": "https://localhost:8080/"
        },
        "id": "VBG83GPwAOHI",
        "outputId": "ca095f53-a48d-4db1-be3a-013287fc5be9"
      },
      "execution_count": 126,
      "outputs": [
        {
          "output_type": "execute_result",
          "data": {
            "text/plain": [
              "21"
            ]
          },
          "metadata": {},
          "execution_count": 126
        }
      ]
    },
    {
      "cell_type": "code",
      "source": [
        "#Fungsi untuk menjumlahkan 2 arrray\n",
        "def totallist(mylist):\n",
        "  total = 0\n",
        "  for i in mylist:\n",
        "    total += i\n",
        "  return total"
      ],
      "metadata": {
        "id": "KwXBbVvICTMw"
      },
      "execution_count": 104,
      "outputs": []
    },
    {
      "cell_type": "code",
      "source": [
        "add_a_b = np.add(a, b)\n",
        "totallist(add_a_b)"
      ],
      "metadata": {
        "colab": {
          "base_uri": "https://localhost:8080/"
        },
        "id": "_N2aS5-ECjuN",
        "outputId": "ef1b9a36-701b-4189-a807-d013a5e3e89c"
      },
      "execution_count": 105,
      "outputs": [
        {
          "output_type": "execute_result",
          "data": {
            "text/plain": [
              "21"
            ]
          },
          "metadata": {},
          "execution_count": 105
        }
      ]
    },
    {
      "cell_type": "code",
      "source": [
        "# Fungsi menampilkan nilai array ke-3\n",
        "nilai_siswa = np.array([85,55,40,90])\n",
        "print(nilai_siswa[3])"
      ],
      "metadata": {
        "colab": {
          "base_uri": "https://localhost:8080/"
        },
        "id": "tbHIIhR-EJ8j",
        "outputId": "b10f0961-49a5-4dab-8dfa-0d5f21faafaf"
      },
      "execution_count": 51,
      "outputs": [
        {
          "output_type": "stream",
          "name": "stdout",
          "text": [
            "90\n"
          ]
        }
      ]
    },
    {
      "cell_type": "code",
      "source": [
        "#Fungsi untuk mencetak atau menampilkan beberapa teks ke layar.\n",
        "print(\"Hallo, World!\")\n",
        "print(\"Nama saya (Syifa Nur Nabila)\")\n",
        "print(\"NIM (2023071017)\")"
      ],
      "metadata": {
        "colab": {
          "base_uri": "https://localhost:8080/"
        },
        "id": "v4-iQ0pyFyLo",
        "outputId": "fdb745af-840f-4080-baab-ba3ef2e1d508"
      },
      "execution_count": 54,
      "outputs": [
        {
          "output_type": "stream",
          "name": "stdout",
          "text": [
            "Hallo, World!\n",
            "Nama saya (Syifa Nur Nabila)\n",
            "NIM (2023071017)\n"
          ]
        }
      ]
    },
    {
      "cell_type": "code",
      "source": [
        "#Fungsi untuk meminta input pengguna dan menampilkan kembali input tersebut.\n",
        "Nama = input(\"Masukkan nama anda: \")\n",
        "NIM = int(input(\"Masukkan NIM anda: \"))\n",
        "\n",
        "print(f\"Nama saya {Nama}\")\n",
        "print(f\"NIM saya {NIM}\")"
      ],
      "metadata": {
        "colab": {
          "base_uri": "https://localhost:8080/"
        },
        "id": "oL2iPQc1HBUJ",
        "outputId": "5a611ee2-71bd-4217-b4e5-0bd21d790e39"
      },
      "execution_count": 88,
      "outputs": [
        {
          "output_type": "stream",
          "name": "stdout",
          "text": [
            "Masukkan nama anda: Syifa Nur Nabila\n",
            "Masukkan NIM anda: 2023071017\n",
            "Nama saya Syifa Nur Nabila\n",
            "NIM saya 2023071017\n"
          ]
        }
      ]
    },
    {
      "cell_type": "code",
      "source": [
        "#Fungsi sebuah pernyataan kondisional if\n",
        "if 5>2:\n",
        "  print(\"Five is geater in two\")"
      ],
      "metadata": {
        "colab": {
          "base_uri": "https://localhost:8080/"
        },
        "id": "ifCSx3lYIAH0",
        "outputId": "592160e7-3efa-4793-d219-9cfa76d70ff9"
      },
      "execution_count": 65,
      "outputs": [
        {
          "output_type": "stream",
          "name": "stdout",
          "text": [
            "Five is geater in two\n"
          ]
        }
      ]
    },
    {
      "cell_type": "code",
      "source": [
        "#Fungsi untuk menampilkan perintah cetak\n",
        "x = 5\n",
        "y = \"John\"\n",
        "print(x)\n",
        "print(y)"
      ],
      "metadata": {
        "colab": {
          "base_uri": "https://localhost:8080/"
        },
        "id": "6ypQgxA-IQgW",
        "outputId": "1bcf6008-f6d8-48c8-984d-2c12d2b3284d"
      },
      "execution_count": 62,
      "outputs": [
        {
          "output_type": "stream",
          "name": "stdout",
          "text": [
            "5\n",
            "John\n"
          ]
        }
      ]
    },
    {
      "cell_type": "code",
      "source": [
        "#Fungsi yang melakukan dua tugas dan data terakhir adalah data update yang digunakan.\n",
        "x = 5\n",
        "x = \"Sally\"\n",
        "print(x)"
      ],
      "metadata": {
        "colab": {
          "base_uri": "https://localhost:8080/"
        },
        "id": "nRb-uFaVIhPO",
        "outputId": "8cea68b3-9e9b-4e7c-8214-b1a965e6bcaf"
      },
      "execution_count": 64,
      "outputs": [
        {
          "output_type": "stream",
          "name": "stdout",
          "text": [
            "Sally\n"
          ]
        }
      ]
    },
    {
      "cell_type": "code",
      "source": [
        "#Fungsi untuk mengambil elemen pertama dari sebuah list.\n",
        "def getFirst(myList):\n",
        "  return (myList[0])\n",
        "getFirst([1,2,3])"
      ],
      "metadata": {
        "colab": {
          "base_uri": "https://localhost:8080/"
        },
        "id": "KF2sTpM7IxAC",
        "outputId": "bb7cc7f1-a5a7-4d63-c872-13628d3c3907"
      },
      "execution_count": 70,
      "outputs": [
        {
          "output_type": "execute_result",
          "data": {
            "text/plain": [
              "1"
            ]
          },
          "metadata": {},
          "execution_count": 70
        }
      ]
    },
    {
      "cell_type": "code",
      "source": [
        "#Fungsi untuk mengambil elemen ke-dua dari sebuah list.\n",
        "def getSecond(myList):\n",
        "  return (myList[1])\n",
        "getSecond([1,2,3])"
      ],
      "metadata": {
        "colab": {
          "base_uri": "https://localhost:8080/"
        },
        "id": "9QswmJ7vKAze",
        "outputId": "91103d0a-c48c-48cd-8663-0fd330bee764"
      },
      "execution_count": 71,
      "outputs": [
        {
          "output_type": "execute_result",
          "data": {
            "text/plain": [
              "2"
            ]
          },
          "metadata": {},
          "execution_count": 71
        }
      ]
    },
    {
      "cell_type": "code",
      "source": [
        "#Fungsi untuk mengambil elemen terakhir dari sebuah list.\n",
        "def getLast(myList):\n",
        "  return (myList[2])\n",
        "getLast([1,2,3])"
      ],
      "metadata": {
        "colab": {
          "base_uri": "https://localhost:8080/"
        },
        "id": "l1KEnI5uKIxv",
        "outputId": "ebb8fc24-7763-42fe-c476-1146541f6521"
      },
      "execution_count": 73,
      "outputs": [
        {
          "output_type": "execute_result",
          "data": {
            "text/plain": [
              "3"
            ]
          },
          "metadata": {},
          "execution_count": 73
        }
      ]
    },
    {
      "cell_type": "code",
      "source": [
        "#Fungsi untuk mengambil elemen terakhir dari sebuah list.\n",
        "def getlast(list):\n",
        "  return list[-1]\n",
        "getlast([1,2,3,4,5,6,7,8,9])"
      ],
      "metadata": {
        "colab": {
          "base_uri": "https://localhost:8080/"
        },
        "id": "VhfNXv3jK-iw",
        "outputId": "dab54213-25a4-4178-a864-f3d910c40f6b"
      },
      "execution_count": 74,
      "outputs": [
        {
          "output_type": "execute_result",
          "data": {
            "text/plain": [
              "9"
            ]
          },
          "metadata": {},
          "execution_count": 74
        }
      ]
    },
    {
      "cell_type": "code",
      "source": [
        "#Fungsi untuk mengambil elemen terakhir dari sebuah list.\n",
        "def getlast2(list):\n",
        "  size = len(list)\n",
        "  print(f\"size {size}\")\n",
        "  return list[size-1]\n",
        "getlast2([1,2,3,4,5])"
      ],
      "metadata": {
        "colab": {
          "base_uri": "https://localhost:8080/"
        },
        "id": "P4fK0btdLfLi",
        "outputId": "66c5d8ca-a21d-424b-e63f-31305c1ec61e"
      },
      "execution_count": 122,
      "outputs": [
        {
          "output_type": "stream",
          "name": "stdout",
          "text": [
            "size 5\n"
          ]
        },
        {
          "output_type": "execute_result",
          "data": {
            "text/plain": [
              "5"
            ]
          },
          "metadata": {},
          "execution_count": 122
        }
      ]
    },
    {
      "cell_type": "code",
      "source": [
        "#Fungsi untuk menghitung jumlah semua angka di dalam sebuah list.\n",
        "def getSum(mylist):\n",
        "  sum = 0\n",
        "  for item in mylist:\n",
        "    sum = sum+item\n",
        "  return sum\n",
        "getSum([1,2,3,4])"
      ],
      "metadata": {
        "colab": {
          "base_uri": "https://localhost:8080/"
        },
        "id": "ir03eQkoR7NT",
        "outputId": "dd5e7bfe-a978-4fb3-857e-e4dd90838c24"
      },
      "execution_count": 115,
      "outputs": [
        {
          "output_type": "execute_result",
          "data": {
            "text/plain": [
              "10"
            ]
          },
          "metadata": {},
          "execution_count": 115
        }
      ]
    },
    {
      "cell_type": "code",
      "source": [
        "#Fungsi untuk menghitung perkalian semua angka di dalam sebuah list.\n",
        "def getKali(mylist):\n",
        "    kali = 1  # Inisialisasi dengan 1 karena apapun dikali 1 hasilnya tetap sama\n",
        "    for item in mylist:\n",
        "        kali = kali * item\n",
        "    return kali\n",
        "\n",
        "getKali([1,2,3,4])"
      ],
      "metadata": {
        "colab": {
          "base_uri": "https://localhost:8080/"
        },
        "id": "qEwcxOevWrc8",
        "outputId": "c8235434-d875-4ae0-8fb0-ce7ae16a8a55"
      },
      "execution_count": 116,
      "outputs": [
        {
          "output_type": "execute_result",
          "data": {
            "text/plain": [
              "24"
            ]
          },
          "metadata": {},
          "execution_count": 116
        }
      ]
    },
    {
      "cell_type": "code",
      "source": [
        "#Fungsi untuk membagi elemen-elemen dalam list secara berpasangan.\n",
        "def bagi_berpasangan(list_angka, pembagi_default=1):\n",
        "  hasil = []\n",
        "  for i in range(0, len(list_angka), 2):\n",
        "    if i + 1 < len(list_angka):\n",
        "      hasil.append(list_angka[i] / list_angka[i+1])\n",
        "    else:\n",
        "      hasil.append(list_angka[i] / pembagi_default)\n",
        "  return hasil\n",
        "\n",
        "angka = [8, 4, 6, 2]\n",
        "hasil_bagi_berpasangan = bagi_berpasangan(angka)\n",
        "print(\"Hasil bagi berpasangan:\", hasil_bagi_berpasangan)"
      ],
      "metadata": {
        "colab": {
          "base_uri": "https://localhost:8080/"
        },
        "id": "XEMN0J_ExaTS",
        "outputId": "518d8b39-948f-4d88-d740-bf96f815c796"
      },
      "execution_count": 136,
      "outputs": [
        {
          "output_type": "stream",
          "name": "stdout",
          "text": [
            "Hasil bagi berpasangan: [2.0, 3.0]\n"
          ]
        }
      ]
    },
    {
      "cell_type": "code",
      "source": [
        "#Fungsi untuk membagi setiap elemen dalam list dengan angka konstan.\n",
        "def bagi_dengan_konstanta(list_angka, pembagi):\n",
        "  hasil = []\n",
        "  for angka in list_angka:\n",
        "    hasil.append(angka / pembagi)\n",
        "  return hasil\n",
        "\n",
        "angka = [10, 20, 30]\n",
        "pembagi = 5\n",
        "hasil_bagi = bagi_dengan_konstanta(angka, pembagi)\n",
        "print(\"Hasil bagi:\", hasil_bagi)"
      ],
      "metadata": {
        "colab": {
          "base_uri": "https://localhost:8080/"
        },
        "id": "TLa_qWlgx9e7",
        "outputId": "7f212ac4-276b-400c-d602-8faa5c8448b4"
      },
      "execution_count": 121,
      "outputs": [
        {
          "output_type": "stream",
          "name": "stdout",
          "text": [
            "Hasil bagi: [2.0, 4.0, 6.0]\n"
          ]
        }
      ]
    },
    {
      "cell_type": "code",
      "source": [
        "#Fungsi getSum untuk menjumlahkan 2 array\n",
        "def getSum(myList):\n",
        "  sum = 0\n",
        "  for row in myList:\n",
        "    for item in row:\n",
        "      sum += item\n",
        "  return sum"
      ],
      "metadata": {
        "id": "sBkZTga-1-86"
      },
      "execution_count": 137,
      "outputs": []
    },
    {
      "cell_type": "code",
      "source": [
        "getSum([[1,2,5],[3,4,7]])"
      ],
      "metadata": {
        "colab": {
          "base_uri": "https://localhost:8080/"
        },
        "id": "qcGQYvQ32a5o",
        "outputId": "b9f9b8f0-0b74-479b-bfcc-1a753d4dbe7c"
      },
      "execution_count": 128,
      "outputs": [
        {
          "output_type": "execute_result",
          "data": {
            "text/plain": [
              "22"
            ]
          },
          "metadata": {},
          "execution_count": 128
        }
      ]
    },
    {
      "cell_type": "code",
      "source": [
        "#Fungsi untuk membagi 2 himpunan angka\n",
        "def bagiHimpunan(himpunan1, himpunan2):\n",
        "\n",
        "  jumlah1 = getSum(himpunan1)\n",
        "  jumlah2 = getSum(himpunan2)\n",
        "\n",
        "  if jumlah2 == 0:\n",
        "    raise ValueError(\"Tidak dapat membagi dengan nol\")\n",
        "\n",
        "  hasil_bagi = jumlah1 / jumlah2\n",
        "  return hasil_bagi\n",
        "\n",
        "\n",
        "himpunan_a = [[20, 20, 20, 20]]\n",
        "himpunan_b = [[10, 10, 10, 10]]\n",
        "\n",
        "hasil = bagiHimpunan(himpunan_a, himpunan_b)\n",
        "print(hasil)"
      ],
      "metadata": {
        "colab": {
          "base_uri": "https://localhost:8080/"
        },
        "id": "c-yzpI7y2sJQ",
        "outputId": "01498aed-9712-437f-9df3-aecbe71346d7"
      },
      "execution_count": 132,
      "outputs": [
        {
          "output_type": "stream",
          "name": "stdout",
          "text": [
            "2.0\n"
          ]
        }
      ]
    },
    {
      "cell_type": "code",
      "source": [
        "#Fungsi untuk mengurangi 2 himpunan angka\n",
        "def bagiHimpunan(himpunan1, himpunan2):\n",
        "\n",
        "  jumlah1 = getSum(himpunan1)\n",
        "  jumlah2 = getSum(himpunan2)\n",
        "\n",
        "  if jumlah2 == 0:\n",
        "    raise ValueError(\"Tidak dapat membagi dengan nol\")\n",
        "\n",
        "  hasil_pengurangan = jumlah1 - jumlah2\n",
        "  return hasil_pengurangan\n",
        "\n",
        "\n",
        "himpunan_a = [[20, 20, 20, 20]]\n",
        "himpunan_b = [[10, 10, 10, 10]]\n",
        "\n",
        "hasil = bagiHimpunan(himpunan_a, himpunan_b)\n",
        "print(hasil)"
      ],
      "metadata": {
        "colab": {
          "base_uri": "https://localhost:8080/"
        },
        "id": "SdrDtJm04dKa",
        "outputId": "f69230b0-cef6-4c89-844d-f3bfe0c0d57f"
      },
      "execution_count": 133,
      "outputs": [
        {
          "output_type": "stream",
          "name": "stdout",
          "text": [
            "40\n"
          ]
        }
      ]
    }
  ]
}